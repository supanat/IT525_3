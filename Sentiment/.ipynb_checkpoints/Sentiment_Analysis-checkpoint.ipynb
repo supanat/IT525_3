{
 "cells": [
  {
   "cell_type": "code",
   "execution_count": 1,
   "metadata": {},
   "outputs": [
    {
     "name": "stdout",
     "output_type": "stream",
     "text": [
      "Collecting twython\n",
      "  Downloading twython-3.6.0.tar.gz\n",
      "Requirement already satisfied: requests>=2.1.0 in /anaconda3/lib/python3.6/site-packages (from twython)\n",
      "Collecting requests_oauthlib>=0.4.0 (from twython)\n",
      "  Downloading requests_oauthlib-0.8.0-py2.py3-none-any.whl\n",
      "Requirement already satisfied: chardet<3.1.0,>=3.0.2 in /anaconda3/lib/python3.6/site-packages (from requests>=2.1.0->twython)\n",
      "Requirement already satisfied: idna<2.7,>=2.5 in /anaconda3/lib/python3.6/site-packages (from requests>=2.1.0->twython)\n",
      "Requirement already satisfied: urllib3<1.23,>=1.21.1 in /anaconda3/lib/python3.6/site-packages (from requests>=2.1.0->twython)\n",
      "Requirement already satisfied: certifi>=2017.4.17 in /anaconda3/lib/python3.6/site-packages (from requests>=2.1.0->twython)\n",
      "Collecting oauthlib>=0.6.2 (from requests_oauthlib>=0.4.0->twython)\n",
      "  Downloading oauthlib-2.0.7-py2.py3-none-any.whl (124kB)\n",
      "\u001b[K    100% |████████████████████████████████| 133kB 2.1MB/s ta 0:00:01\n",
      "\u001b[?25hBuilding wheels for collected packages: twython\n",
      "  Running setup.py bdist_wheel for twython ... \u001b[?25ldone\n",
      "\u001b[?25h  Stored in directory: /Users/supanat/Library/Caches/pip/wheels/54/0d/1d/17ead038ae99fc95a15469cab79fef102df2afc447405d0bf7\n",
      "Successfully built twython\n",
      "Installing collected packages: oauthlib, requests-oauthlib, twython\n",
      "Successfully installed oauthlib-2.0.7 requests-oauthlib-0.8.0 twython-3.6.0\n",
      "\u001b[33mYou are using pip version 9.0.1, however version 9.0.3 is available.\n",
      "You should consider upgrading via the 'pip install --upgrade pip' command.\u001b[0m\n"
     ]
    }
   ],
   "source": [
    "!pip install twython"
   ]
  },
  {
   "cell_type": "code",
   "execution_count": 2,
   "metadata": {
    "collapsed": true
   },
   "outputs": [],
   "source": [
    "from twython import Twython"
   ]
  },
  {
   "cell_type": "code",
   "execution_count": 9,
   "metadata": {
    "collapsed": true
   },
   "outputs": [],
   "source": [
    "#Copy and pass the following four keys from the Twitter API application account ConsumerKey = \"xxx\"\n",
    "ConsumerKey = \"xxxx\"\n",
    "ConsumerSecret =\"xxx\"\n",
    "AccessToken=\"xxx\"\n",
    "AccessTokenSecret = \"xxx\""
   ]
  },
  {
   "cell_type": "code",
   "execution_count": 10,
   "metadata": {
    "collapsed": true
   },
   "outputs": [],
   "source": [
    "#Instantiate Twython object\n",
    "twitter = Twython(ConsumerKey, ConsumerSecret, AccessToken, AccessTokenSecret)"
   ]
  },
  {
   "cell_type": "code",
   "execution_count": 11,
   "metadata": {
    "collapsed": true
   },
   "outputs": [],
   "source": [
    "#Try a simple search\n",
    "result = twitter.search(q=\"Donald Trump\", result_type='recent', count=2)\n"
   ]
  },
  {
   "cell_type": "code",
   "execution_count": 13,
   "metadata": {},
   "outputs": [
    {
     "name": "stdout",
     "output_type": "stream",
     "text": [
      "{'created_at': 'Sat Apr 07 09:21:06 +0000 2018', 'id': 982548811309572096, 'id_str': '982548811309572096', 'text': 'RT @Mike_Press19: Donald J.Trump To Cut Aid To Pakistan, Iraq, Egypt, Afghanistan and Jordan After A Shameful UN Vote- Video &lt; America… htt…', 'truncated': False, 'entities': {'hashtags': [], 'symbols': [], 'user_mentions': [{'screen_name': 'Mike_Press19', 'name': 'Deplorable Mike', 'id': 752121791947169792, 'id_str': '752121791947169792', 'indices': [3, 16]}], 'urls': []}, 'metadata': {'iso_language_code': 'en', 'result_type': 'recent'}, 'source': '<a href=\"http://twitter.com/download/android\" rel=\"nofollow\">Twitter for Android</a>', 'in_reply_to_status_id': None, 'in_reply_to_status_id_str': None, 'in_reply_to_user_id': None, 'in_reply_to_user_id_str': None, 'in_reply_to_screen_name': None, 'user': {'id': 897948044259405824, 'id_str': '897948044259405824', 'name': 'johnreed216', 'screen_name': 'johnreed2161', 'location': '', 'description': 'I like Pro-Trump, NRA, National Carry Concealed Permits, Term Limits, Muslim extremist ban, & Viper trucks', 'url': None, 'entities': {'description': {'urls': []}}, 'protected': False, 'followers_count': 1017, 'friends_count': 836, 'listed_count': 2, 'created_at': 'Wed Aug 16 22:27:51 +0000 2017', 'favourites_count': 19327, 'utc_offset': None, 'time_zone': None, 'geo_enabled': False, 'verified': False, 'statuses_count': 18806, 'lang': 'en', 'contributors_enabled': False, 'is_translator': False, 'is_translation_enabled': False, 'profile_background_color': 'F5F8FA', 'profile_background_image_url': None, 'profile_background_image_url_https': None, 'profile_background_tile': False, 'profile_image_url': 'http://pbs.twimg.com/profile_images/898886566172610560/S7IYDLqI_normal.jpg', 'profile_image_url_https': 'https://pbs.twimg.com/profile_images/898886566172610560/S7IYDLqI_normal.jpg', 'profile_banner_url': 'https://pbs.twimg.com/profile_banners/897948044259405824/1503146282', 'profile_link_color': '1DA1F2', 'profile_sidebar_border_color': 'C0DEED', 'profile_sidebar_fill_color': 'DDEEF6', 'profile_text_color': '333333', 'profile_use_background_image': True, 'has_extended_profile': True, 'default_profile': True, 'default_profile_image': False, 'following': False, 'follow_request_sent': False, 'notifications': False, 'translator_type': 'none'}, 'geo': None, 'coordinates': None, 'place': None, 'contributors': None, 'retweeted_status': {'created_at': 'Sat Mar 24 21:56:31 +0000 2018', 'id': 977665490674954241, 'id_str': '977665490674954241', 'text': 'Donald J.Trump To Cut Aid To Pakistan, Iraq, Egypt, Afghanistan and Jordan After A Shameful UN Vote- Video &lt; Americ… https://t.co/YY32PgsAer', 'truncated': True, 'entities': {'hashtags': [], 'symbols': [], 'user_mentions': [], 'urls': [{'url': 'https://t.co/YY32PgsAer', 'expanded_url': 'https://twitter.com/i/web/status/977665490674954241', 'display_url': 'twitter.com/i/web/status/9…', 'indices': [120, 143]}]}, 'metadata': {'iso_language_code': 'en', 'result_type': 'recent'}, 'source': '<a href=\"http://twitter.com\" rel=\"nofollow\">Twitter Web Client</a>', 'in_reply_to_status_id': None, 'in_reply_to_status_id_str': None, 'in_reply_to_user_id': None, 'in_reply_to_user_id_str': None, 'in_reply_to_screen_name': None, 'user': {'id': 752121791947169792, 'id_str': '752121791947169792', 'name': 'Deplorable Mike', 'screen_name': 'Mike_Press19', 'location': 'New York, USA', 'description': '#MAGA Join our Facebook Group https://t.co/U1xNSnJFI9', 'url': 'https://t.co/nJqsnS70Im', 'entities': {'url': {'urls': [{'url': 'https://t.co/nJqsnS70Im', 'expanded_url': 'http://americafans.com', 'display_url': 'americafans.com', 'indices': [0, 23]}]}, 'description': {'urls': [{'url': 'https://t.co/U1xNSnJFI9', 'expanded_url': 'https://www.facebook.com/groups/1261000073925224/', 'display_url': 'facebook.com/groups/1261000…', 'indices': [30, 53]}]}}, 'protected': False, 'followers_count': 73552, 'friends_count': 76642, 'listed_count': 122, 'created_at': 'Sun Jul 10 12:46:23 +0000 2016', 'favourites_count': 505, 'utc_offset': 7200, 'time_zone': 'Europe/Skopje', 'geo_enabled': False, 'verified': False, 'statuses_count': 3410, 'lang': 'en', 'contributors_enabled': False, 'is_translator': False, 'is_translation_enabled': False, 'profile_background_color': '000000', 'profile_background_image_url': 'http://abs.twimg.com/images/themes/theme1/bg.png', 'profile_background_image_url_https': 'https://abs.twimg.com/images/themes/theme1/bg.png', 'profile_background_tile': False, 'profile_image_url': 'http://pbs.twimg.com/profile_images/889461521104990209/20GQ-lEL_normal.jpg', 'profile_image_url_https': 'https://pbs.twimg.com/profile_images/889461521104990209/20GQ-lEL_normal.jpg', 'profile_banner_url': 'https://pbs.twimg.com/profile_banners/752121791947169792/1512553818', 'profile_link_color': '981CEB', 'profile_sidebar_border_color': '000000', 'profile_sidebar_fill_color': '000000', 'profile_text_color': '000000', 'profile_use_background_image': False, 'has_extended_profile': True, 'default_profile': False, 'default_profile_image': False, 'following': False, 'follow_request_sent': False, 'notifications': False, 'translator_type': 'none'}, 'geo': None, 'coordinates': None, 'place': None, 'contributors': None, 'is_quote_status': False, 'retweet_count': 275, 'favorite_count': 334, 'favorited': False, 'retweeted': False, 'possibly_sensitive': False, 'lang': 'en'}, 'is_quote_status': False, 'retweet_count': 275, 'favorite_count': 0, 'favorited': False, 'retweeted': False, 'possibly_sensitive': False, 'lang': 'en'}\n",
      "{'created_at': 'Sat Apr 07 09:21:03 +0000 2018', 'id': 982548800987451393, 'id_str': '982548800987451393', 'text': 'RT @adamcbest: Blame China\\nBlame Mexico\\nBlame Hillary\\nBlame Hollywood\\nBlame Kaepernick\\nBlame Chicago\\nBlame journalists\\nBlame Amazon\\nBlame D…', 'truncated': False, 'entities': {'hashtags': [], 'symbols': [], 'user_mentions': [{'screen_name': 'adamcbest', 'name': 'Adam Best', 'id': 17261066, 'id_str': '17261066', 'indices': [3, 13]}], 'urls': []}, 'metadata': {'iso_language_code': 'en', 'result_type': 'recent'}, 'source': '<a href=\"http://twitter.com/download/iphone\" rel=\"nofollow\">Twitter for iPhone</a>', 'in_reply_to_status_id': None, 'in_reply_to_status_id_str': None, 'in_reply_to_user_id': None, 'in_reply_to_user_id_str': None, 'in_reply_to_screen_name': None, 'user': {'id': 117281027, 'id_str': '117281027', 'name': '🦋lulu', 'screen_name': 'lulu742', 'location': 'Texas, USA', 'description': \"Proud American,in a beautiful,diverse world. Proud Obama Democrat. Progressive. Feminist. I need facts. Kindness always. I am my brother's keeper.\", 'url': None, 'entities': {'description': {'urls': []}}, 'protected': False, 'followers_count': 1812, 'friends_count': 3997, 'listed_count': 117, 'created_at': 'Thu Feb 25 03:17:00 +0000 2010', 'favourites_count': 69900, 'utc_offset': None, 'time_zone': None, 'geo_enabled': True, 'verified': False, 'statuses_count': 134797, 'lang': 'en', 'contributors_enabled': False, 'is_translator': False, 'is_translation_enabled': False, 'profile_background_color': '642D8B', 'profile_background_image_url': 'http://abs.twimg.com/images/themes/theme10/bg.gif', 'profile_background_image_url_https': 'https://abs.twimg.com/images/themes/theme10/bg.gif', 'profile_background_tile': True, 'profile_image_url': 'http://pbs.twimg.com/profile_images/947142834460811264/-Ca_F64n_normal.jpg', 'profile_image_url_https': 'https://pbs.twimg.com/profile_images/947142834460811264/-Ca_F64n_normal.jpg', 'profile_link_color': 'FF0000', 'profile_sidebar_border_color': '65B0DA', 'profile_sidebar_fill_color': '7AC3EE', 'profile_text_color': '3D1957', 'profile_use_background_image': True, 'has_extended_profile': False, 'default_profile': False, 'default_profile_image': False, 'following': False, 'follow_request_sent': False, 'notifications': False, 'translator_type': 'none'}, 'geo': None, 'coordinates': None, 'place': None, 'contributors': None, 'retweeted_status': {'created_at': 'Fri Apr 06 16:00:39 +0000 2018', 'id': 982286975456526336, 'id_str': '982286975456526336', 'text': 'Blame China\\nBlame Mexico\\nBlame Hillary\\nBlame Hollywood\\nBlame Kaepernick\\nBlame Chicago\\nBlame journalists\\nBlame Amazo… https://t.co/o5g7i6iZ9S', 'truncated': True, 'entities': {'hashtags': [], 'symbols': [], 'user_mentions': [], 'urls': [{'url': 'https://t.co/o5g7i6iZ9S', 'expanded_url': 'https://twitter.com/i/web/status/982286975456526336', 'display_url': 'twitter.com/i/web/status/9…', 'indices': [117, 140]}]}, 'metadata': {'iso_language_code': 'en', 'result_type': 'recent'}, 'source': '<a href=\"http://twitter.com\" rel=\"nofollow\">Twitter Web Client</a>', 'in_reply_to_status_id': None, 'in_reply_to_status_id_str': None, 'in_reply_to_user_id': None, 'in_reply_to_user_id_str': None, 'in_reply_to_screen_name': None, 'user': {'id': 17261066, 'id_str': '17261066', 'name': 'Adam Best', 'screen_name': 'adamcbest', 'location': 'Austin, TX', 'description': 'CEO/Founder @TheLeft. Film Producer. Blocked by Donald Trump. Aspiring Gorilla Channel Proprietor. One letter away from being Batman. Past: @FanSided Founder', 'url': None, 'entities': {'description': {'urls': []}}, 'protected': False, 'followers_count': 69813, 'friends_count': 11861, 'listed_count': 931, 'created_at': 'Sat Nov 08 23:28:07 +0000 2008', 'favourites_count': 11639, 'utc_offset': -21600, 'time_zone': 'Mountain Time (US & Canada)', 'geo_enabled': True, 'verified': True, 'statuses_count': 12617, 'lang': 'en', 'contributors_enabled': False, 'is_translator': False, 'is_translation_enabled': False, 'profile_background_color': '131516', 'profile_background_image_url': 'http://pbs.twimg.com/profile_background_images/551460632671690752/CuTojZWv.jpeg', 'profile_background_image_url_https': 'https://pbs.twimg.com/profile_background_images/551460632671690752/CuTojZWv.jpeg', 'profile_background_tile': False, 'profile_image_url': 'http://pbs.twimg.com/profile_images/955522572539527168/4_PNLrBU_normal.jpg', 'profile_image_url_https': 'https://pbs.twimg.com/profile_images/955522572539527168/4_PNLrBU_normal.jpg', 'profile_banner_url': 'https://pbs.twimg.com/profile_banners/17261066/1513289367', 'profile_link_color': '1B95E0', 'profile_sidebar_border_color': 'EEEEEE', 'profile_sidebar_fill_color': 'EFEFEF', 'profile_text_color': '333333', 'profile_use_background_image': False, 'has_extended_profile': False, 'default_profile': False, 'default_profile_image': False, 'following': False, 'follow_request_sent': False, 'notifications': False, 'translator_type': 'none'}, 'geo': None, 'coordinates': None, 'place': None, 'contributors': None, 'is_quote_status': False, 'retweet_count': 4662, 'favorite_count': 10545, 'favorited': False, 'retweeted': False, 'lang': 'en'}, 'is_quote_status': False, 'retweet_count': 4662, 'favorite_count': 0, 'favorited': False, 'retweeted': False, 'lang': 'en'}\n",
      "user: {'id': 897948044259405824, 'id_str': '897948044259405824', 'name': 'johnreed216', 'screen_name': 'johnreed2161', 'location': '', 'description': 'I like Pro-Trump, NRA, National Carry Concealed Permits, Term Limits, Muslim extremist ban, & Viper trucks', 'url': None, 'entities': {'description': {'urls': []}}, 'protected': False, 'followers_count': 1017, 'friends_count': 836, 'listed_count': 2, 'created_at': 'Wed Aug 16 22:27:51 +0000 2017', 'favourites_count': 19327, 'utc_offset': None, 'time_zone': None, 'geo_enabled': False, 'verified': False, 'statuses_count': 18806, 'lang': 'en', 'contributors_enabled': False, 'is_translator': False, 'is_translation_enabled': False, 'profile_background_color': 'F5F8FA', 'profile_background_image_url': None, 'profile_background_image_url_https': None, 'profile_background_tile': False, 'profile_image_url': 'http://pbs.twimg.com/profile_images/898886566172610560/S7IYDLqI_normal.jpg', 'profile_image_url_https': 'https://pbs.twimg.com/profile_images/898886566172610560/S7IYDLqI_normal.jpg', 'profile_banner_url': 'https://pbs.twimg.com/profile_banners/897948044259405824/1503146282', 'profile_link_color': '1DA1F2', 'profile_sidebar_border_color': 'C0DEED', 'profile_sidebar_fill_color': 'DDEEF6', 'profile_text_color': '333333', 'profile_use_background_image': True, 'has_extended_profile': True, 'default_profile': True, 'default_profile_image': False, 'following': False, 'follow_request_sent': False, 'notifications': False, 'translator_type': 'none'} \n",
      "name: johnreed216 \n",
      "text: RT @Mike_Press19: Donald J.Trump To Cut Aid To Pakistan, Iraq, Egypt, Afghanistan and Jordan After A Shameful UN Vote- Video &lt; America… htt…\n",
      "\n",
      "\n",
      "user: {'id': 117281027, 'id_str': '117281027', 'name': '🦋lulu', 'screen_name': 'lulu742', 'location': 'Texas, USA', 'description': \"Proud American,in a beautiful,diverse world. Proud Obama Democrat. Progressive. Feminist. I need facts. Kindness always. I am my brother's keeper.\", 'url': None, 'entities': {'description': {'urls': []}}, 'protected': False, 'followers_count': 1812, 'friends_count': 3997, 'listed_count': 117, 'created_at': 'Thu Feb 25 03:17:00 +0000 2010', 'favourites_count': 69900, 'utc_offset': None, 'time_zone': None, 'geo_enabled': True, 'verified': False, 'statuses_count': 134797, 'lang': 'en', 'contributors_enabled': False, 'is_translator': False, 'is_translation_enabled': False, 'profile_background_color': '642D8B', 'profile_background_image_url': 'http://abs.twimg.com/images/themes/theme10/bg.gif', 'profile_background_image_url_https': 'https://abs.twimg.com/images/themes/theme10/bg.gif', 'profile_background_tile': True, 'profile_image_url': 'http://pbs.twimg.com/profile_images/947142834460811264/-Ca_F64n_normal.jpg', 'profile_image_url_https': 'https://pbs.twimg.com/profile_images/947142834460811264/-Ca_F64n_normal.jpg', 'profile_link_color': 'FF0000', 'profile_sidebar_border_color': '65B0DA', 'profile_sidebar_fill_color': '7AC3EE', 'profile_text_color': '3D1957', 'profile_use_background_image': True, 'has_extended_profile': False, 'default_profile': False, 'default_profile_image': False, 'following': False, 'follow_request_sent': False, 'notifications': False, 'translator_type': 'none'} \n",
      "name: 🦋lulu \n",
      "text: RT @adamcbest: Blame China\n",
      "Blame Mexico\n",
      "Blame Hillary\n",
      "Blame Hollywood\n",
      "Blame Kaepernick\n",
      "Blame Chicago\n",
      "Blame journalists\n",
      "Blame Amazon\n",
      "Blame D…\n",
      "\n",
      "\n"
     ]
    }
   ],
   "source": [
    "#Print the whole tweet\n",
    "for status in result['statuses']:\n",
    "    print(status)\n",
    "#Print username and text\n",
    "for status in result[\"statuses\"]:\n",
    "    print(\"user: {0} \\nname: {1} \\ntext: {2}\\n\\n\".format(status[\"user\"], status[\"user\"][\"name\"], status[\"text\"]))"
   ]
  },
  {
   "cell_type": "code",
   "execution_count": 5,
   "metadata": {},
   "outputs": [
    {
     "name": "stdout",
     "output_type": "stream",
     "text": [
      "{'courses': [{'id': 'IT525', 'name': 'Data Science'}, {'id': 'CP352', 'name': 'System Analysis and Design'}]}\n",
      "[{'id': 'IT525', 'name': 'Data Science'}, {'id': 'CP352', 'name': 'System Analysis and Design'}]\n",
      "{'id': 'IT525', 'name': 'Data Science'}\n",
      "Data Science\n"
     ]
    }
   ],
   "source": [
    "import json\n",
    "jsonStr = \"\"\"{\"courses\":[{\"id\":\"IT525\", \"name\":\"Data Science\"},\n",
    "    {\"id\":\"CP352\", \"name\":\"System Analysis and Design\"}]}\"\"\"\n",
    "pythonDict = json.loads(jsonStr)\n",
    "print(pythonDict)\n",
    "print(pythonDict['courses'])\n",
    "print(pythonDict['courses'][0])\n",
    "print(pythonDict['courses'][0][\"name\"])"
   ]
  },
  {
   "cell_type": "code",
   "execution_count": 7,
   "metadata": {},
   "outputs": [
    {
     "data": {
      "text/plain": [
       "{'courses': [{'id': 'IT525', 'name': 'Data Science'},\n",
       "  {'id': 'CP352', 'name': 'System Analysis and Design'}]}"
      ]
     },
     "execution_count": 7,
     "metadata": {},
     "output_type": "execute_result"
    }
   ],
   "source": [
    "pythonDict"
   ]
  },
  {
   "cell_type": "code",
   "execution_count": 11,
   "metadata": {
    "collapsed": true
   },
   "outputs": [],
   "source": [
    "jsonDict = {'courses':[\n",
    "{'id':'IT525', 'name':'Data Science'}, {'id':'CP352', 'name':'System Analysis and Design'} ]}"
   ]
  },
  {
   "cell_type": "code",
   "execution_count": 13,
   "metadata": {},
   "outputs": [
    {
     "name": "stdout",
     "output_type": "stream",
     "text": [
      "[{'id': 'IT525', 'name': 'Data Science'}, {'id': 'CP352', 'name': 'System Analysis and Design'}]\n"
     ]
    }
   ],
   "source": [
    "print(jsonDict[\"courses\"])"
   ]
  },
  {
   "cell_type": "code",
   "execution_count": 16,
   "metadata": {},
   "outputs": [
    {
     "name": "stdout",
     "output_type": "stream",
     "text": [
      "{\n",
      "    \"courses\": [\n",
      "        {\n",
      "            \"id\": \"IT525\",\n",
      "            \"name\": \"Data Science\"\n",
      "        },\n",
      "        {\n",
      "            \"id\": \"CP352\",\n",
      "            \"name\": \"System Analysis and Design\"\n",
      "        }\n",
      "    ]\n",
      "}\n",
      "{\n",
      "    \"courses\"\n"
     ]
    }
   ],
   "source": [
    "jsonStr = json.dumps(jsonDict, indent=4) \n",
    "print(jsonStr)\n",
    "print(jsonStr[0:15])"
   ]
  },
  {
   "cell_type": "code",
   "execution_count": null,
   "metadata": {
    "collapsed": true
   },
   "outputs": [],
   "source": []
  }
 ],
 "metadata": {
  "kernelspec": {
   "display_name": "Python 3",
   "language": "python",
   "name": "python3"
  },
  "language_info": {
   "codemirror_mode": {
    "name": "ipython",
    "version": 3
   },
   "file_extension": ".py",
   "mimetype": "text/x-python",
   "name": "python",
   "nbconvert_exporter": "python",
   "pygments_lexer": "ipython3",
   "version": "3.6.3"
  }
 },
 "nbformat": 4,
 "nbformat_minor": 2
}
